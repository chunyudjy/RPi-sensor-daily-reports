{
 "cells": [
  {
   "cell_type": "markdown",
   "id": "430c104c",
   "metadata": {},
   "source": [
    "- ydata-profiling can be used for a quick Exploratory Data Analysis on time-series data. This is useful for a quick understanding on the behaviour of time dependent variables regarding behaviours such as time plots, seasonality, trends, stationary and data gaps. \n",
    "- Combined with the profiling reports compare, you're able to compare the evolution and data behaviour through time, in terms of time-series specific statistics such as PACF and ACF plots. It also provides the identification of gaps in the time series, caused either by missing values or by entries missing in the time index.\n"
   ]
  },
  {
   "cell_type": "code",
   "execution_count": 1,
   "id": "4de97add",
   "metadata": {},
   "outputs": [
    {
     "data": {
      "text/html": [
       "\n",
       "            <div>\n",
       "                <ins><a href=\"https://ydata.ai/register\">Upgrade to ydata-sdk</a></ins>\n",
       "                <p>\n",
       "                    Improve your data and profiling with ydata-sdk, featuring data quality scoring, redundancy detection, outlier identification, text validation, and synthetic data generation.\n",
       "                </p>\n",
       "            </div>\n",
       "            "
      ],
      "text/plain": [
       "<IPython.core.display.HTML object>"
      ]
     },
     "metadata": {},
     "output_type": "display_data"
    },
    {
     "data": {
      "text/html": [
       "<div>\n",
       "<style scoped>\n",
       "    .dataframe tbody tr th:only-of-type {\n",
       "        vertical-align: middle;\n",
       "    }\n",
       "\n",
       "    .dataframe tbody tr th {\n",
       "        vertical-align: top;\n",
       "    }\n",
       "\n",
       "    .dataframe thead th {\n",
       "        text-align: right;\n",
       "    }\n",
       "</style>\n",
       "<table border=\"1\" class=\"dataframe\">\n",
       "  <thead>\n",
       "    <tr style=\"text-align: right;\">\n",
       "      <th></th>\n",
       "      <th>timestamp</th>\n",
       "      <th>device_id</th>\n",
       "      <th>temperature</th>\n",
       "      <th>humidity</th>\n",
       "      <th>pressure</th>\n",
       "      <th>gas_resistance</th>\n",
       "      <th>co2</th>\n",
       "      <th>absolute_humidity</th>\n",
       "    </tr>\n",
       "  </thead>\n",
       "  <tbody>\n",
       "    <tr>\n",
       "      <th>0</th>\n",
       "      <td>2025-07-05 09:48:43</td>\n",
       "      <td>P2</td>\n",
       "      <td>27.32004</td>\n",
       "      <td>58.52402</td>\n",
       "      <td>998.3854</td>\n",
       "      <td>25036</td>\n",
       "      <td>565.0</td>\n",
       "      <td>15.33</td>\n",
       "    </tr>\n",
       "    <tr>\n",
       "      <th>1</th>\n",
       "      <td>2025-07-05 09:49:13</td>\n",
       "      <td>P2</td>\n",
       "      <td>27.95168</td>\n",
       "      <td>58.31137</td>\n",
       "      <td>998.3972</td>\n",
       "      <td>44352</td>\n",
       "      <td>568.0</td>\n",
       "      <td>15.82</td>\n",
       "    </tr>\n",
       "    <tr>\n",
       "      <th>2</th>\n",
       "      <td>2025-07-05 09:49:44</td>\n",
       "      <td>P2</td>\n",
       "      <td>28.36125</td>\n",
       "      <td>58.04615</td>\n",
       "      <td>998.4022</td>\n",
       "      <td>60339</td>\n",
       "      <td>569.0</td>\n",
       "      <td>16.10</td>\n",
       "    </tr>\n",
       "    <tr>\n",
       "      <th>3</th>\n",
       "      <td>2025-07-05 09:50:14</td>\n",
       "      <td>P2</td>\n",
       "      <td>28.54563</td>\n",
       "      <td>57.84314</td>\n",
       "      <td>998.4022</td>\n",
       "      <td>72213</td>\n",
       "      <td>572.0</td>\n",
       "      <td>16.21</td>\n",
       "    </tr>\n",
       "    <tr>\n",
       "      <th>4</th>\n",
       "      <td>2025-07-05 09:50:44</td>\n",
       "      <td>P2</td>\n",
       "      <td>28.66672</td>\n",
       "      <td>57.65001</td>\n",
       "      <td>998.3962</td>\n",
       "      <td>81609</td>\n",
       "      <td>573.0</td>\n",
       "      <td>16.26</td>\n",
       "    </tr>\n",
       "  </tbody>\n",
       "</table>\n",
       "</div>"
      ],
      "text/plain": [
       "            timestamp device_id  temperature  humidity  pressure  \\\n",
       "0 2025-07-05 09:48:43        P2     27.32004  58.52402  998.3854   \n",
       "1 2025-07-05 09:49:13        P2     27.95168  58.31137  998.3972   \n",
       "2 2025-07-05 09:49:44        P2     28.36125  58.04615  998.4022   \n",
       "3 2025-07-05 09:50:14        P2     28.54563  57.84314  998.4022   \n",
       "4 2025-07-05 09:50:44        P2     28.66672  57.65001  998.3962   \n",
       "\n",
       "   gas_resistance    co2  absolute_humidity  \n",
       "0           25036  565.0              15.33  \n",
       "1           44352  568.0              15.82  \n",
       "2           60339  569.0              16.10  \n",
       "3           72213  572.0              16.21  \n",
       "4           81609  573.0              16.26  "
      ]
     },
     "execution_count": 1,
     "metadata": {},
     "output_type": "execute_result"
    }
   ],
   "source": [
    "import pandas as pd\n",
    "from ydata_profiling import ProfileReport\n",
    "df = pd.read_csv(\"P2_2025-07-05.csv\",\n",
    "                #  ,index_col=0\n",
    "                parse_dates=[\"timestamp\"]\n",
    "                 ) \n",
    "# df.index.name = \"timestamp\" \n",
    "df.head(5)"
   ]
  },
  {
   "cell_type": "code",
   "execution_count": 2,
   "id": "37ab838c",
   "metadata": {},
   "outputs": [
    {
     "data": {
      "application/vnd.jupyter.widget-view+json": {
       "model_id": "b2abab3a2e9c4241bc8f7e29b5d93229",
       "version_major": 2,
       "version_minor": 0
      },
      "text/plain": [
       "Summarize dataset:   0%|          | 0/5 [00:00<?, ?it/s]"
      ]
     },
     "metadata": {},
     "output_type": "display_data"
    },
    {
     "name": "stderr",
     "output_type": "stream",
     "text": [
      "100%|██████████| 8/8 [00:00<00:00, 58.66it/s]\n"
     ]
    },
    {
     "data": {
      "application/vnd.jupyter.widget-view+json": {
       "model_id": "c6f6fc379d1940b38cd66ef159a01b15",
       "version_major": 2,
       "version_minor": 0
      },
      "text/plain": [
       "Generate report structure:   0%|          | 0/1 [00:00<?, ?it/s]"
      ]
     },
     "metadata": {},
     "output_type": "display_data"
    },
    {
     "data": {
      "application/vnd.jupyter.widget-view+json": {
       "model_id": "a63eb7f1f7cc4a1db8e9546ac53b0907",
       "version_major": 2,
       "version_minor": 0
      },
      "text/plain": [
       "Render HTML:   0%|          | 0/1 [00:00<?, ?it/s]"
      ]
     },
     "metadata": {},
     "output_type": "display_data"
    },
    {
     "data": {
      "application/vnd.jupyter.widget-view+json": {
       "model_id": "5c4f05bedfbe471d9ddf537aab989b4c",
       "version_major": 2,
       "version_minor": 0
      },
      "text/plain": [
       "Export report to file:   0%|          | 0/1 [00:00<?, ?it/s]"
      ]
     },
     "metadata": {},
     "output_type": "display_data"
    }
   ],
   "source": [
    "profile = ProfileReport(\n",
    "    df, \n",
    "    tsmode=True,  \n",
    "    sortby=\"timestamp\",  \n",
    "    title=\"Time-Series Sensor EDA\")\n",
    "profile.to_file(\"output2.html\")"
   ]
  },
  {
   "cell_type": "markdown",
   "id": "aa1140b7",
   "metadata": {},
   "source": [
    "## Why use ydata-profiling?\n",
    "ydata-profiling is a valuable tool for data scientists and analysts because it streamlines EDA, provides comprehensive insights, enhances data quality, and promotes data science best practices.\n",
    "\n",
    "Simple to user: It is so simple to use - a single line of code is what you need to get you started. Do you really need more to convince you? 😛\n",
    "```\n",
    "import pandas as pd\n",
    "from ydata_profiling import ProfileReport\n",
    "\n",
    "df = pd.read_csv('data.csv')\n",
    "profile = ProfileReport(df, title=\"Profiling Report\")\n",
    "```\n",
    "Comprehensive insights in a report: a report including a wide range of statistics and visualizations, providing a holistic view of your data. The report is shareable as a html file or while integrate as a widget in a Jupyter Notebook.\n",
    "Data quality assessment: excel at the identification of missing data, duplicate entries and outliers. These insights are essential for data cleaning and preparation, ensuring the reliability of your analysis and leading to early problems' identification.\n",
    "Ease of integration with other flows: all metrics of the data profiling can be consumed in a standard JSON format.\n",
    "Data exploration for large datasets: even with dataset with a large number of rows, ydata-profiling will be able to help you as it supports both Pandas Dataframes and Spark Dataframes.\n",
    "- 数据质量评估：擅长识别缺失数据、重复条目和异常值。这些洞察对于数据清理和准备至关重要，可确保分析的可靠性并有助于及早发现问题。\n",
    "- 易于与其他流程集成：数据分析的所有指标均可采用标准 JSON 格式。"
   ]
  },
  {
   "cell_type": "markdown",
   "id": "29849ef9",
   "metadata": {},
   "source": [
    "## (3)Customizing the report\n",
    "In some situations, a user might want to customize the appearance of the report to match personal preferences or a corporate brand. ydata-profiling offers two major customization dimensions: the styling of the HTML report and the styling of the visualizations and plots contained within."
   ]
  }
 ],
 "metadata": {
  "kernelspec": {
   "display_name": "base",
   "language": "python",
   "name": "python3"
  },
  "language_info": {
   "codemirror_mode": {
    "name": "ipython",
    "version": 3
   },
   "file_extension": ".py",
   "mimetype": "text/x-python",
   "name": "python",
   "nbconvert_exporter": "python",
   "pygments_lexer": "ipython3",
   "version": "3.11.5"
  }
 },
 "nbformat": 4,
 "nbformat_minor": 5
}
